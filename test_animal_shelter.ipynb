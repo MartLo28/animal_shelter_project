{
 "cells": [
  {
   "cell_type": "code",
   "execution_count": 2,
   "id": "a596d8fb",
   "metadata": {},
   "outputs": [
    {
     "name": "stdout",
     "output_type": "stream",
     "text": [
      "Create result: True\n",
      "Read result: [{'_id': ObjectId('66593b8129d7560aba303f54'), 'animal_id': 'A123', 'name': 'Buddy', 'age': 3}, {'_id': ObjectId('66593c6c23fdebcb13525fc7'), 'animal_id': 'A123', 'name': 'Buddy', 'age': 3}, {'_id': ObjectId('66593cce23fdebcb13525fc9'), 'animal_id': 'A123', 'name': 'Buddy', 'age': 3}]\n"
     ]
    }
   ],
   "source": [
    "import os\n",
    "\n",
    "from animal_shelter import AnimalShelter\n",
    "\n",
    "shelter = AnimalShelter()\n",
    "\n",
    "data = {\"animal_id\": \"A123\", \"name\": \"Buddy\", \"age\": 3}\n",
    "create_result = shelter.create(data)\n",
    "print(f\"Create result: {create_result}\")\n",
    "\n",
    "query = {\"animal_id\": \"A123\"}\n",
    "read_result = shelter.read(query)\n",
    "print(f\"Read result: {read_result}\")\n"
   ]
  },
  {
   "cell_type": "code",
   "execution_count": null,
   "id": "72c1ec80",
   "metadata": {},
   "outputs": [],
   "source": []
  }
 ],
 "metadata": {
  "kernelspec": {
   "display_name": "Python 3 (ipykernel)",
   "language": "python",
   "name": "python3"
  },
  "language_info": {
   "codemirror_mode": {
    "name": "ipython",
    "version": 3
   },
   "file_extension": ".py",
   "mimetype": "text/x-python",
   "name": "python",
   "nbconvert_exporter": "python",
   "pygments_lexer": "ipython3",
   "version": "3.9.12"
  }
 },
 "nbformat": 4,
 "nbformat_minor": 5
}
